{
 "cells": [
  {
   "cell_type": "markdown",
   "metadata": {},
   "source": [
    "# File Information\n",
    "\n",
    "Name: Amie Davis\n",
    "\n",
    "Course: DSC680 - Applied Data Science\n",
    "\n",
    "Project: College Recommendation Engine\n",
    "\n",
    "Purpose: Build model(s)\n",
    "\n",
    "Usage: Python 3.7.6\n",
    "\n",
    "   Developed using Jupter Notebook 6.0.3"
   ]
  },
  {
   "cell_type": "markdown",
   "metadata": {},
   "source": [
    "# Data Source\n",
    "\n",
    "College Scorecard is managed by the US Department of Education and provides results such as costs and graduation rates.  \n",
    "College Scorecard. (n.d.). Retrieved March 15, 2021, from https://collegescorecard.ed.gov/"
   ]
  },
  {
   "cell_type": "markdown",
   "metadata": {},
   "source": [
    "# References\n",
    "\n",
    "Albon, C. (2018). Machine learning with Python cookbook: practical solutions from preprocessing to deep learning. O'Reilly.\n",
    "\n",
    "https://towardsdatascience.com/build-your-own-clustering-based-recommendation-engine-in-15-minutes-bdddd591d394"
   ]
  },
  {
   "cell_type": "markdown",
   "metadata": {},
   "source": [
    "# Part 3\n",
    "\n",
    "In Part 3, I will build a k-Means clustering model to perform unsupervised learning to group similar colleges."
   ]
  },
  {
   "cell_type": "markdown",
   "metadata": {},
   "source": [
    "## Import required packages"
   ]
  },
  {
   "cell_type": "code",
   "execution_count": 1,
   "metadata": {},
   "outputs": [],
   "source": [
    "# Suppress Warnings\n",
    "#import warnings\n",
    "#warnings.filterwarnings('ignore') \n",
    "\n",
    "import pandas as pd\n",
    "import numpy as np\n",
    "from sklearn.preprocessing import StandardScaler\n",
    "from sklearn.cluster import KMeans\n",
    "import matplotlib.pyplot as plt\n",
    "import pickle"
   ]
  },
  {
   "cell_type": "markdown",
   "metadata": {},
   "source": [
    "# Prepare Data"
   ]
  },
  {
   "cell_type": "code",
   "execution_count": 2,
   "metadata": {},
   "outputs": [],
   "source": [
    "# Load data into dataframe\n",
    "data_file = \"Data\\Scorecard\\Cleaned_Scorecard.csv\" \n",
    "df = pd.read_csv(data_file)"
   ]
  },
  {
   "cell_type": "markdown",
   "metadata": {},
   "source": [
    "## Eliminate non-numeric features"
   ]
  },
  {
   "cell_type": "code",
   "execution_count": 3,
   "metadata": {},
   "outputs": [
    {
     "name": "stdout",
     "output_type": "stream",
     "text": [
      "Unnamed: 0                     int64\n",
      "UNITID                         int64\n",
      "SAT_AVG                        int64\n",
      "ACT_MEDIAN                     int64\n",
      "TUITION_OUT_ST                 int64\n",
      "LOCALE                         int64\n",
      "LATITUDE                     float64\n",
      "LONGITUDE                    float64\n",
      "ADM_RATE_ALL                 float64\n",
      "SIZE                           int64\n",
      "ONLINE_ONLY                    int64\n",
      "Y4_COMPLETION_RT             float64\n",
      "PT_RETENTION_RT              float64\n",
      "UG_INCOMP_1Y_REPAY_RT        float64\n",
      "UG_GRAD_4Y_REPAY_RT          float64\n",
      "UG_PLUS_1Y_REPAY_RT          float64\n",
      "Y4_COMPLETION_RT_POOLED      float64\n",
      "FED_LN_AWD_RT                float64\n",
      "Y5_UG_REPAY_RT               float64\n",
      "Y5_PLUS_LN_REPAY_RT          float64\n",
      "DBRR10_FED_UG_RT             float64\n",
      "DBRR10_PP_UG_RT              float64\n",
      "OPEID                          int64\n",
      "OPEID6                         int64\n",
      "SCHOOL_NAME                   object\n",
      "CITY                          object\n",
      "STABBR                        object\n",
      "ZIP                           object\n",
      "MAIN_CAMPUS                    int64\n",
      "NUM_BRANCH                     int64\n",
      "OWNERSHIP                      int64\n",
      "ST_FIPS                        int64\n",
      "REGION                         int64\n",
      "NPT41_PRIV                   float64\n",
      "PVT_INCOME_30_40K            float64\n",
      "TUITION_IN_ST                  int64\n",
      "INSTR_EXP_PER_FTE              int64\n",
      "Y3_LN_DEFAULT_RT             float64\n",
      "MEDIAN_DEBT                  float64\n",
      "MEDIAN_PLUS_LN_DEBT            int64\n",
      "MEDIAN_PLUS_LN_DEBT_GRADS    float64\n",
      "Y2_LN_DEFAULT_RT             float64\n",
      "Y2_LN_DELINQ_RT              float64\n",
      "FED_UG_PAIDINFULL            float64\n",
      "UG_GRAD_2Y_FORBEAR_RT        float64\n",
      "LPSTAFFORD_CNT               float64\n",
      "NUM_STU_PLUS_LN_BAL            int64\n",
      "LPPPLUS_AMT                  float64\n",
      "FED_SCHOOL_CD                 object\n",
      "dtype: object\n"
     ]
    }
   ],
   "source": [
    "print(df.dtypes)"
   ]
  },
  {
   "cell_type": "code",
   "execution_count": 4,
   "metadata": {},
   "outputs": [
    {
     "data": {
      "text/html": [
       "<div>\n",
       "<style scoped>\n",
       "    .dataframe tbody tr th:only-of-type {\n",
       "        vertical-align: middle;\n",
       "    }\n",
       "\n",
       "    .dataframe tbody tr th {\n",
       "        vertical-align: top;\n",
       "    }\n",
       "\n",
       "    .dataframe thead th {\n",
       "        text-align: right;\n",
       "    }\n",
       "</style>\n",
       "<table border=\"1\" class=\"dataframe\">\n",
       "  <thead>\n",
       "    <tr style=\"text-align: right;\">\n",
       "      <th></th>\n",
       "      <th>Unnamed: 0</th>\n",
       "      <th>UNITID</th>\n",
       "      <th>SAT_AVG</th>\n",
       "      <th>ACT_MEDIAN</th>\n",
       "      <th>TUITION_OUT_ST</th>\n",
       "      <th>LOCALE</th>\n",
       "      <th>LATITUDE</th>\n",
       "      <th>LONGITUDE</th>\n",
       "      <th>ADM_RATE_ALL</th>\n",
       "      <th>SIZE</th>\n",
       "      <th>...</th>\n",
       "      <th>MEDIAN_DEBT</th>\n",
       "      <th>MEDIAN_PLUS_LN_DEBT</th>\n",
       "      <th>MEDIAN_PLUS_LN_DEBT_GRADS</th>\n",
       "      <th>Y2_LN_DEFAULT_RT</th>\n",
       "      <th>Y2_LN_DELINQ_RT</th>\n",
       "      <th>FED_UG_PAIDINFULL</th>\n",
       "      <th>UG_GRAD_2Y_FORBEAR_RT</th>\n",
       "      <th>LPSTAFFORD_CNT</th>\n",
       "      <th>NUM_STU_PLUS_LN_BAL</th>\n",
       "      <th>LPPPLUS_AMT</th>\n",
       "    </tr>\n",
       "  </thead>\n",
       "  <tbody>\n",
       "    <tr>\n",
       "      <th>0</th>\n",
       "      <td>1</td>\n",
       "      <td>100654</td>\n",
       "      <td>957</td>\n",
       "      <td>18</td>\n",
       "      <td>18354</td>\n",
       "      <td>12</td>\n",
       "      <td>34.783368</td>\n",
       "      <td>-86.568502</td>\n",
       "      <td>0.8986</td>\n",
       "      <td>4990</td>\n",
       "      <td>...</td>\n",
       "      <td>3606.0</td>\n",
       "      <td>14838</td>\n",
       "      <td>16106.0</td>\n",
       "      <td>0.172640</td>\n",
       "      <td>0.074776</td>\n",
       "      <td>0.007926</td>\n",
       "      <td>0.266409</td>\n",
       "      <td>31374.0</td>\n",
       "      <td>5201</td>\n",
       "      <td>113949554.0</td>\n",
       "    </tr>\n",
       "    <tr>\n",
       "      <th>1</th>\n",
       "      <td>2</td>\n",
       "      <td>100663</td>\n",
       "      <td>1220</td>\n",
       "      <td>25</td>\n",
       "      <td>19704</td>\n",
       "      <td>12</td>\n",
       "      <td>33.505697</td>\n",
       "      <td>-86.799345</td>\n",
       "      <td>0.9211</td>\n",
       "      <td>13186</td>\n",
       "      <td>...</td>\n",
       "      <td>7504.0</td>\n",
       "      <td>16145</td>\n",
       "      <td>16954.0</td>\n",
       "      <td>0.060389</td>\n",
       "      <td>0.034483</td>\n",
       "      <td>0.059675</td>\n",
       "      <td>0.156121</td>\n",
       "      <td>56997.0</td>\n",
       "      <td>3727</td>\n",
       "      <td>87421879.0</td>\n",
       "    </tr>\n",
       "    <tr>\n",
       "      <th>2</th>\n",
       "      <td>3</td>\n",
       "      <td>100690</td>\n",
       "      <td>0</td>\n",
       "      <td>0</td>\n",
       "      <td>6900</td>\n",
       "      <td>12</td>\n",
       "      <td>32.362609</td>\n",
       "      <td>-86.174010</td>\n",
       "      <td>1.0000</td>\n",
       "      <td>351</td>\n",
       "      <td>...</td>\n",
       "      <td>514.0</td>\n",
       "      <td>0</td>\n",
       "      <td>NaN</td>\n",
       "      <td>0.157191</td>\n",
       "      <td>0.050167</td>\n",
       "      <td>NaN</td>\n",
       "      <td>0.000000</td>\n",
       "      <td>4463.0</td>\n",
       "      <td>16</td>\n",
       "      <td>309618.0</td>\n",
       "    </tr>\n",
       "    <tr>\n",
       "      <th>3</th>\n",
       "      <td>4</td>\n",
       "      <td>100706</td>\n",
       "      <td>1314</td>\n",
       "      <td>28</td>\n",
       "      <td>22362</td>\n",
       "      <td>12</td>\n",
       "      <td>34.724557</td>\n",
       "      <td>-86.640449</td>\n",
       "      <td>0.8087</td>\n",
       "      <td>7458</td>\n",
       "      <td>...</td>\n",
       "      <td>3021.0</td>\n",
       "      <td>13524</td>\n",
       "      <td>16550.0</td>\n",
       "      <td>0.055035</td>\n",
       "      <td>0.031390</td>\n",
       "      <td>0.092947</td>\n",
       "      <td>0.100349</td>\n",
       "      <td>19702.0</td>\n",
       "      <td>1397</td>\n",
       "      <td>29789762.0</td>\n",
       "    </tr>\n",
       "    <tr>\n",
       "      <th>4</th>\n",
       "      <td>5</td>\n",
       "      <td>100724</td>\n",
       "      <td>972</td>\n",
       "      <td>18</td>\n",
       "      <td>19396</td>\n",
       "      <td>12</td>\n",
       "      <td>32.364317</td>\n",
       "      <td>-86.295677</td>\n",
       "      <td>0.9774</td>\n",
       "      <td>3903</td>\n",
       "      <td>...</td>\n",
       "      <td>3609.0</td>\n",
       "      <td>15351</td>\n",
       "      <td>18952.0</td>\n",
       "      <td>0.173804</td>\n",
       "      <td>0.061713</td>\n",
       "      <td>0.007872</td>\n",
       "      <td>0.286976</td>\n",
       "      <td>34246.0</td>\n",
       "      <td>4602</td>\n",
       "      <td>95359062.0</td>\n",
       "    </tr>\n",
       "  </tbody>\n",
       "</table>\n",
       "<p>5 rows × 44 columns</p>\n",
       "</div>"
      ],
      "text/plain": [
       "   Unnamed: 0  UNITID  SAT_AVG  ACT_MEDIAN  TUITION_OUT_ST  LOCALE   LATITUDE  \\\n",
       "0           1  100654      957          18           18354      12  34.783368   \n",
       "1           2  100663     1220          25           19704      12  33.505697   \n",
       "2           3  100690        0           0            6900      12  32.362609   \n",
       "3           4  100706     1314          28           22362      12  34.724557   \n",
       "4           5  100724      972          18           19396      12  32.364317   \n",
       "\n",
       "   LONGITUDE  ADM_RATE_ALL   SIZE  ...  MEDIAN_DEBT  MEDIAN_PLUS_LN_DEBT  \\\n",
       "0 -86.568502        0.8986   4990  ...       3606.0                14838   \n",
       "1 -86.799345        0.9211  13186  ...       7504.0                16145   \n",
       "2 -86.174010        1.0000    351  ...        514.0                    0   \n",
       "3 -86.640449        0.8087   7458  ...       3021.0                13524   \n",
       "4 -86.295677        0.9774   3903  ...       3609.0                15351   \n",
       "\n",
       "   MEDIAN_PLUS_LN_DEBT_GRADS  Y2_LN_DEFAULT_RT  Y2_LN_DELINQ_RT  \\\n",
       "0                    16106.0          0.172640         0.074776   \n",
       "1                    16954.0          0.060389         0.034483   \n",
       "2                        NaN          0.157191         0.050167   \n",
       "3                    16550.0          0.055035         0.031390   \n",
       "4                    18952.0          0.173804         0.061713   \n",
       "\n",
       "   FED_UG_PAIDINFULL  UG_GRAD_2Y_FORBEAR_RT  LPSTAFFORD_CNT  \\\n",
       "0           0.007926               0.266409         31374.0   \n",
       "1           0.059675               0.156121         56997.0   \n",
       "2                NaN               0.000000          4463.0   \n",
       "3           0.092947               0.100349         19702.0   \n",
       "4           0.007872               0.286976         34246.0   \n",
       "\n",
       "   NUM_STU_PLUS_LN_BAL  LPPPLUS_AMT  \n",
       "0                 5201  113949554.0  \n",
       "1                 3727   87421879.0  \n",
       "2                   16     309618.0  \n",
       "3                 1397   29789762.0  \n",
       "4                 4602   95359062.0  \n",
       "\n",
       "[5 rows x 44 columns]"
      ]
     },
     "execution_count": 4,
     "metadata": {},
     "output_type": "execute_result"
    }
   ],
   "source": [
    "# Keep only numeric fields\n",
    "train_df = df.select_dtypes(include=[np.number])\n",
    "\n",
    "train_df.head()"
   ]
  },
  {
   "cell_type": "code",
   "execution_count": 5,
   "metadata": {},
   "outputs": [
    {
     "name": "stdout",
     "output_type": "stream",
     "text": [
      "Unnamed: 0                     0\n",
      "UNITID                         0\n",
      "SAT_AVG                        0\n",
      "ACT_MEDIAN                     0\n",
      "TUITION_OUT_ST                 0\n",
      "LOCALE                         0\n",
      "LATITUDE                       0\n",
      "LONGITUDE                      0\n",
      "ADM_RATE_ALL                   0\n",
      "SIZE                           0\n",
      "ONLINE_ONLY                    0\n",
      "Y4_COMPLETION_RT               0\n",
      "PT_RETENTION_RT                0\n",
      "UG_INCOMP_1Y_REPAY_RT          0\n",
      "UG_GRAD_4Y_REPAY_RT            0\n",
      "UG_PLUS_1Y_REPAY_RT            0\n",
      "Y4_COMPLETION_RT_POOLED        0\n",
      "FED_LN_AWD_RT                  0\n",
      "Y5_UG_REPAY_RT                 0\n",
      "Y5_PLUS_LN_REPAY_RT            0\n",
      "DBRR10_FED_UG_RT             207\n",
      "DBRR10_PP_UG_RT              362\n",
      "OPEID                          0\n",
      "OPEID6                         0\n",
      "MAIN_CAMPUS                    0\n",
      "NUM_BRANCH                     0\n",
      "OWNERSHIP                      0\n",
      "ST_FIPS                        0\n",
      "REGION                         0\n",
      "NPT41_PRIV                   226\n",
      "PVT_INCOME_30_40K            758\n",
      "TUITION_IN_ST                  0\n",
      "INSTR_EXP_PER_FTE              0\n",
      "Y3_LN_DEFAULT_RT               0\n",
      "MEDIAN_DEBT                  129\n",
      "MEDIAN_PLUS_LN_DEBT            0\n",
      "MEDIAN_PLUS_LN_DEBT_GRADS    407\n",
      "Y2_LN_DEFAULT_RT               0\n",
      "Y2_LN_DELINQ_RT                0\n",
      "FED_UG_PAIDINFULL            427\n",
      "UG_GRAD_2Y_FORBEAR_RT          0\n",
      "LPSTAFFORD_CNT                89\n",
      "NUM_STU_PLUS_LN_BAL            0\n",
      "LPPPLUS_AMT                  211\n",
      "dtype: int64\n"
     ]
    }
   ],
   "source": [
    "# Find null records\n",
    "count_nan_in_df = train_df.isnull().sum()\n",
    "print (count_nan_in_df)"
   ]
  },
  {
   "cell_type": "code",
   "execution_count": 6,
   "metadata": {},
   "outputs": [
    {
     "name": "stderr",
     "output_type": "stream",
     "text": [
      "C:\\Users\\amomu\\Anaconda3\\lib\\site-packages\\pandas\\core\\series.py:4469: SettingWithCopyWarning: \n",
      "A value is trying to be set on a copy of a slice from a DataFrame\n",
      "\n",
      "See the caveats in the documentation: https://pandas.pydata.org/pandas-docs/stable/user_guide/indexing.html#returning-a-view-versus-a-copy\n",
      "  downcast=downcast,\n"
     ]
    }
   ],
   "source": [
    "# Handle null Values\n",
    "\n",
    "# Set null rate data to 0\n",
    "train_df[\"DBRR10_FED_UG_RT\"].fillna(0, inplace = True)\n",
    "train_df[\"DBRR10_PP_UG_RT\"].fillna(0, inplace = True)\n",
    "\n",
    "# Set null monetary data to 0\n",
    "train_df[\"FED_UG_PAIDINFULL\"].fillna(0, inplace = True)\n",
    "train_df[\"LPPPLUS_AMT\"].fillna(0, inplace = True)\n",
    "train_df[\"PVT_INCOME_30_40K\"].fillna(0, inplace = True)\n",
    "\n",
    "# Impute null median data to median of values in other records\n",
    "train_df['MEDIAN_DEBT'].fillna(train_df['MEDIAN_DEBT'].median(), inplace=True)\n",
    "train_df['MEDIAN_PLUS_LN_DEBT_GRADS'].fillna(train_df['MEDIAN_PLUS_LN_DEBT_GRADS'].median(), inplace=True)               \n",
    "\n",
    "# Some schools have no students with reported income < $30\n",
    "# Set cost to 0 from NA\n",
    "train_df[\"NPT41_PRIV\"].fillna(0, inplace = True)\n",
    "train_df[\"LPSTAFFORD_CNT\"].fillna(0, inplace = True)"
   ]
  },
  {
   "cell_type": "code",
   "execution_count": 7,
   "metadata": {},
   "outputs": [
    {
     "name": "stdout",
     "output_type": "stream",
     "text": [
      "Unnamed: 0                   0\n",
      "UNITID                       0\n",
      "SAT_AVG                      0\n",
      "ACT_MEDIAN                   0\n",
      "TUITION_OUT_ST               0\n",
      "LOCALE                       0\n",
      "LATITUDE                     0\n",
      "LONGITUDE                    0\n",
      "ADM_RATE_ALL                 0\n",
      "SIZE                         0\n",
      "ONLINE_ONLY                  0\n",
      "Y4_COMPLETION_RT             0\n",
      "PT_RETENTION_RT              0\n",
      "UG_INCOMP_1Y_REPAY_RT        0\n",
      "UG_GRAD_4Y_REPAY_RT          0\n",
      "UG_PLUS_1Y_REPAY_RT          0\n",
      "Y4_COMPLETION_RT_POOLED      0\n",
      "FED_LN_AWD_RT                0\n",
      "Y5_UG_REPAY_RT               0\n",
      "Y5_PLUS_LN_REPAY_RT          0\n",
      "DBRR10_FED_UG_RT             0\n",
      "DBRR10_PP_UG_RT              0\n",
      "OPEID                        0\n",
      "OPEID6                       0\n",
      "MAIN_CAMPUS                  0\n",
      "NUM_BRANCH                   0\n",
      "OWNERSHIP                    0\n",
      "ST_FIPS                      0\n",
      "REGION                       0\n",
      "NPT41_PRIV                   0\n",
      "PVT_INCOME_30_40K            0\n",
      "TUITION_IN_ST                0\n",
      "INSTR_EXP_PER_FTE            0\n",
      "Y3_LN_DEFAULT_RT             0\n",
      "MEDIAN_DEBT                  0\n",
      "MEDIAN_PLUS_LN_DEBT          0\n",
      "MEDIAN_PLUS_LN_DEBT_GRADS    0\n",
      "Y2_LN_DEFAULT_RT             0\n",
      "Y2_LN_DELINQ_RT              0\n",
      "FED_UG_PAIDINFULL            0\n",
      "UG_GRAD_2Y_FORBEAR_RT        0\n",
      "LPSTAFFORD_CNT               0\n",
      "NUM_STU_PLUS_LN_BAL          0\n",
      "LPPPLUS_AMT                  0\n",
      "dtype: int64\n"
     ]
    }
   ],
   "source": [
    "# Check null records\n",
    "count_nan_in_df = train_df.isnull().sum()\n",
    "print (count_nan_in_df)"
   ]
  },
  {
   "cell_type": "markdown",
   "metadata": {},
   "source": [
    "## Standardization"
   ]
  },
  {
   "cell_type": "code",
   "execution_count": 8,
   "metadata": {},
   "outputs": [
    {
     "data": {
      "text/plain": [
       "array([[-1.73120939, -1.1602827 ,  0.45343115, ..., -0.08513354,\n",
       "         0.70559181,  0.30577287],\n",
       "       [-1.72952616, -1.16019784,  0.91757109, ...,  0.08830825,\n",
       "         0.35705198,  0.13645898],\n",
       "       [-1.72784292, -1.15994327, -1.23547352, ..., -0.26729379,\n",
       "        -0.5204455 , -0.41953831],\n",
       "       ...,\n",
       "       [ 1.72784292,  2.53671497, -1.23547352, ...,  0.37345189,\n",
       "         0.03097572, -0.06963586],\n",
       "       [ 1.72952616,  2.53711097, -1.23547352, ..., -0.19134574,\n",
       "        -0.35705267, -0.29983386],\n",
       "       [ 1.73120939,  2.53862898, -1.23547352, ..., -0.11424696,\n",
       "        -0.27121824, -0.27673791]])"
      ]
     },
     "execution_count": 8,
     "metadata": {},
     "output_type": "execute_result"
    }
   ],
   "source": [
    "# Standardize features into array\n",
    "scaler = StandardScaler()\n",
    "features_std = scaler.fit_transform(train_df)\n",
    "\n",
    "features_std"
   ]
  },
  {
   "cell_type": "markdown",
   "metadata": {},
   "source": [
    "# Model Creation and Evaluation"
   ]
  },
  {
   "cell_type": "markdown",
   "metadata": {},
   "source": [
    "## Build Model"
   ]
  },
  {
   "cell_type": "code",
   "execution_count": 9,
   "metadata": {},
   "outputs": [
    {
     "data": {
      "text/plain": [
       "[(1, 4115.999999999996),\n",
       " (2, 3059.4212503151994),\n",
       " (3, 3644.599246722471),\n",
       " (4, 2845.5805426818197),\n",
       " (5, 2935.4186427435056),\n",
       " (6, 3043.9849555606074),\n",
       " (7, 2882.408960006184),\n",
       " (8, 2849.207259898587),\n",
       " (9, 2784.8486009196317),\n",
       " (10, 2766.7883661519377)]"
      ]
     },
     "execution_count": 9,
     "metadata": {},
     "output_type": "execute_result"
    }
   ],
   "source": [
    "# Use Elbow Method to determine best value for k\n",
    "\n",
    "# Calculates Within-Cluster-Sum of Squared Errors for k from 1 to kmax\n",
    "def calculate_WSS(points, kmax):\n",
    "    \n",
    "  # Initiate list\n",
    "  sse = []\n",
    "    \n",
    "  for k in range(1, kmax+1):\n",
    "    kmeans = KMeans(n_clusters = k).fit(points)\n",
    "    centroids = kmeans.cluster_centers_\n",
    "    pred_clusters = kmeans.predict(points)\n",
    "    curr_sse = 0\n",
    "    \n",
    "    # Calculate square of Euclidean distance of each point from its cluster center and add to current WSS\n",
    "    for i in range(len(points)):\n",
    "      curr_center = centroids[pred_clusters[i]]\n",
    "      curr_sse += (points[i, 0] - curr_center[0]) ** 2 + (points[i, 1] - curr_center[1]) ** 2\n",
    "\n",
    "    # Return pairs of k and WWS so they can be plotted\n",
    "    sse_tup = (k,curr_sse)\n",
    "    sse.append(sse_tup)\n",
    "    \n",
    "  return sse\n",
    "\n",
    "# Test output\n",
    "calculate_WSS(features_std, 10)"
   ]
  },
  {
   "cell_type": "code",
   "execution_count": 31,
   "metadata": {},
   "outputs": [
    {
     "data": {
      "image/png": "[encoded data removed]",
      "text/plain": [
       "<Figure size 432x288 with 1 Axes>"
      ]
     },
     "metadata": {
      "needs_background": "light"
     },
     "output_type": "display_data"
    }
   ],
   "source": [
    "# Plot Elbow Curve (WSS vs. k)\n",
    "#fig, ax = plt.subplots()  # Create a figure containing a single axes.\n",
    "# Setup figure w/o axes lines\n",
    "plt.figure()\n",
    "plt.axes(frameon=False)\n",
    "\n",
    "# Plot data\n",
    "plt.plot(calculate_WSS(features_std, 100), color='c', linewidth=2.0)\n",
    "\n",
    "\n",
    "# Set plot parameters\n",
    "plt.title('Sum of Squared Errors', loc='left', fontsize=18)\n",
    "plt.xlabel('k')\n",
    "plt.ylabel('SSE')\n",
    "\n",
    "# Save plot to file\n",
    "plt.savefig('Elbow_Curve.png', bbox_inches='tight')\n",
    "\n",
    "# Show Plot\n",
    "plt.show()"
   ]
  },
  {
   "cell_type": "code",
   "execution_count": 11,
   "metadata": {},
   "outputs": [],
   "source": [
    "# Create k-Means model\n",
    "# Selecting k=30 based on the \n",
    "cluster = KMeans(n_clusters=30, random_state=0, n_jobs=-1)"
   ]
  },
  {
   "cell_type": "code",
   "execution_count": 12,
   "metadata": {},
   "outputs": [
    {
     "name": "stderr",
     "output_type": "stream",
     "text": [
      "C:\\Users\\amomu\\Anaconda3\\lib\\site-packages\\sklearn\\cluster\\_kmeans.py:793: FutureWarning: 'n_jobs' was deprecated in version 0.23 and will be removed in 1.0 (renaming of 0.25).\n",
      "  \" removed in 1.0 (renaming of 0.25).\", FutureWarning)\n"
     ]
    }
   ],
   "source": [
    "# Train model\n",
    "kmeans = cluster.fit(features_std)"
   ]
  },
  {
   "cell_type": "code",
   "execution_count": 13,
   "metadata": {},
   "outputs": [],
   "source": [
    "# Save machine learning model\n",
    "filename = 'kmeans_model.sav'\n",
    "pickle.dump(kmeans, open(filename, 'wb'))"
   ]
  },
  {
   "cell_type": "markdown",
   "metadata": {},
   "source": [
    "### Model Evaluation"
   ]
  },
  {
   "cell_type": "code",
   "execution_count": 14,
   "metadata": {},
   "outputs": [
    {
     "name": "stdout",
     "output_type": "stream",
     "text": [
      "[[ 1.51593222  2.2711597  -1.23547352 ...  9.37611862  1.51617153\n",
      "   0.32900296]\n",
      " [-0.87711334 -0.64054999  0.51630695 ... -0.23810965 -0.34628419\n",
      "  -0.30935792]\n",
      " [ 0.52452695 -0.02651169  0.52852398 ... -0.239954   -0.30940496\n",
      "  -0.27394961]\n",
      " ...\n",
      " [ 1.26425136  1.25232638 -1.23547352 ... -0.28551027 -0.52422883\n",
      "  -0.42151446]\n",
      " [-0.2491191  -0.08656262 -1.23547352 ... -0.26012566 -0.48678957\n",
      "  -0.39182638]\n",
      " [-0.45663128 -0.47645366 -1.17628204 ... -0.18575183 -0.39311939\n",
      "  -0.3611353 ]]\n"
     ]
    }
   ],
   "source": [
    "# Vew centroid values\n",
    "print(kmeans.cluster_centers_)"
   ]
  },
  {
   "cell_type": "code",
   "execution_count": 15,
   "metadata": {},
   "outputs": [
    {
     "data": {
      "text/plain": [
       "array([21,  5, 10, ..., 19, 14, 21])"
      ]
     },
     "execution_count": 15,
     "metadata": {},
     "output_type": "execute_result"
    }
   ],
   "source": [
    "# View cluster label\n",
    "kmeans.labels_"
   ]
  },
  {
   "cell_type": "markdown",
   "metadata": {},
   "source": [
    "# Model Deployment"
   ]
  },
  {
   "cell_type": "code",
   "execution_count": 16,
   "metadata": {},
   "outputs": [],
   "source": [
    "# Function gets the cluster of a school\n",
    "def cluster_predict(unit_id):\n",
    "    \n",
    "    # Find record in clean numeric df\n",
    "    record_df = train_df.loc[train_df['UNITID'] == unit_id]\n",
    "    \n",
    "    # Standardize into array\n",
    "    std_array = scaler.fit_transform(record_df)\n",
    "    \n",
    "    # Assign cluster for specific school\n",
    "    prediction = kmeans.predict(std_array)\n",
    "    return prediction\n",
    "\n",
    "# Test function\n",
    "# print(cluster_predict(100654))"
   ]
  },
  {
   "cell_type": "code",
   "execution_count": 17,
   "metadata": {},
   "outputs": [
    {
     "data": {
      "text/html": [
       "<div>\n",
       "<style scoped>\n",
       "    .dataframe tbody tr th:only-of-type {\n",
       "        vertical-align: middle;\n",
       "    }\n",
       "\n",
       "    .dataframe tbody tr th {\n",
       "        vertical-align: top;\n",
       "    }\n",
       "\n",
       "    .dataframe thead th {\n",
       "        text-align: right;\n",
       "    }\n",
       "</style>\n",
       "<table border=\"1\" class=\"dataframe\">\n",
       "  <thead>\n",
       "    <tr style=\"text-align: right;\">\n",
       "      <th></th>\n",
       "      <th>Unnamed: 0</th>\n",
       "      <th>UNITID</th>\n",
       "      <th>SAT_AVG</th>\n",
       "      <th>ACT_MEDIAN</th>\n",
       "      <th>TUITION_OUT_ST</th>\n",
       "      <th>LOCALE</th>\n",
       "      <th>LATITUDE</th>\n",
       "      <th>LONGITUDE</th>\n",
       "      <th>ADM_RATE_ALL</th>\n",
       "      <th>SIZE</th>\n",
       "      <th>...</th>\n",
       "      <th>MEDIAN_PLUS_LN_DEBT_GRADS</th>\n",
       "      <th>Y2_LN_DEFAULT_RT</th>\n",
       "      <th>Y2_LN_DELINQ_RT</th>\n",
       "      <th>FED_UG_PAIDINFULL</th>\n",
       "      <th>UG_GRAD_2Y_FORBEAR_RT</th>\n",
       "      <th>LPSTAFFORD_CNT</th>\n",
       "      <th>NUM_STU_PLUS_LN_BAL</th>\n",
       "      <th>LPPPLUS_AMT</th>\n",
       "      <th>FED_SCHOOL_CD</th>\n",
       "      <th>CLUSTERLABEL</th>\n",
       "    </tr>\n",
       "  </thead>\n",
       "  <tbody>\n",
       "    <tr>\n",
       "      <th>0</th>\n",
       "      <td>1</td>\n",
       "      <td>100654</td>\n",
       "      <td>957</td>\n",
       "      <td>18</td>\n",
       "      <td>18354</td>\n",
       "      <td>12</td>\n",
       "      <td>34.783368</td>\n",
       "      <td>-86.568502</td>\n",
       "      <td>0.8986</td>\n",
       "      <td>4990</td>\n",
       "      <td>...</td>\n",
       "      <td>16106.0</td>\n",
       "      <td>0.172640</td>\n",
       "      <td>0.074776</td>\n",
       "      <td>0.007926</td>\n",
       "      <td>0.266409</td>\n",
       "      <td>31374.0</td>\n",
       "      <td>5201</td>\n",
       "      <td>113949554.0</td>\n",
       "      <td>001002</td>\n",
       "      <td>21</td>\n",
       "    </tr>\n",
       "    <tr>\n",
       "      <th>1</th>\n",
       "      <td>2</td>\n",
       "      <td>100663</td>\n",
       "      <td>1220</td>\n",
       "      <td>25</td>\n",
       "      <td>19704</td>\n",
       "      <td>12</td>\n",
       "      <td>33.505697</td>\n",
       "      <td>-86.799345</td>\n",
       "      <td>0.9211</td>\n",
       "      <td>13186</td>\n",
       "      <td>...</td>\n",
       "      <td>16954.0</td>\n",
       "      <td>0.060389</td>\n",
       "      <td>0.034483</td>\n",
       "      <td>0.059675</td>\n",
       "      <td>0.156121</td>\n",
       "      <td>56997.0</td>\n",
       "      <td>3727</td>\n",
       "      <td>87421879.0</td>\n",
       "      <td>001052</td>\n",
       "      <td>5</td>\n",
       "    </tr>\n",
       "    <tr>\n",
       "      <th>2</th>\n",
       "      <td>3</td>\n",
       "      <td>100690</td>\n",
       "      <td>0</td>\n",
       "      <td>0</td>\n",
       "      <td>6900</td>\n",
       "      <td>12</td>\n",
       "      <td>32.362609</td>\n",
       "      <td>-86.174010</td>\n",
       "      <td>1.0000</td>\n",
       "      <td>351</td>\n",
       "      <td>...</td>\n",
       "      <td>NaN</td>\n",
       "      <td>0.157191</td>\n",
       "      <td>0.050167</td>\n",
       "      <td>NaN</td>\n",
       "      <td>0.000000</td>\n",
       "      <td>4463.0</td>\n",
       "      <td>16</td>\n",
       "      <td>309618.0</td>\n",
       "      <td>016885</td>\n",
       "      <td>10</td>\n",
       "    </tr>\n",
       "    <tr>\n",
       "      <th>3</th>\n",
       "      <td>4</td>\n",
       "      <td>100706</td>\n",
       "      <td>1314</td>\n",
       "      <td>28</td>\n",
       "      <td>22362</td>\n",
       "      <td>12</td>\n",
       "      <td>34.724557</td>\n",
       "      <td>-86.640449</td>\n",
       "      <td>0.8087</td>\n",
       "      <td>7458</td>\n",
       "      <td>...</td>\n",
       "      <td>16550.0</td>\n",
       "      <td>0.055035</td>\n",
       "      <td>0.031390</td>\n",
       "      <td>0.092947</td>\n",
       "      <td>0.100349</td>\n",
       "      <td>19702.0</td>\n",
       "      <td>1397</td>\n",
       "      <td>29789762.0</td>\n",
       "      <td>001055</td>\n",
       "      <td>5</td>\n",
       "    </tr>\n",
       "    <tr>\n",
       "      <th>4</th>\n",
       "      <td>5</td>\n",
       "      <td>100724</td>\n",
       "      <td>972</td>\n",
       "      <td>18</td>\n",
       "      <td>19396</td>\n",
       "      <td>12</td>\n",
       "      <td>32.364317</td>\n",
       "      <td>-86.295677</td>\n",
       "      <td>0.9774</td>\n",
       "      <td>3903</td>\n",
       "      <td>...</td>\n",
       "      <td>18952.0</td>\n",
       "      <td>0.173804</td>\n",
       "      <td>0.061713</td>\n",
       "      <td>0.007872</td>\n",
       "      <td>0.286976</td>\n",
       "      <td>34246.0</td>\n",
       "      <td>4602</td>\n",
       "      <td>95359062.0</td>\n",
       "      <td>001005</td>\n",
       "      <td>21</td>\n",
       "    </tr>\n",
       "  </tbody>\n",
       "</table>\n",
       "<p>5 rows × 50 columns</p>\n",
       "</div>"
      ],
      "text/plain": [
       "   Unnamed: 0  UNITID  SAT_AVG  ACT_MEDIAN  TUITION_OUT_ST  LOCALE   LATITUDE  \\\n",
       "0           1  100654      957          18           18354      12  34.783368   \n",
       "1           2  100663     1220          25           19704      12  33.505697   \n",
       "2           3  100690        0           0            6900      12  32.362609   \n",
       "3           4  100706     1314          28           22362      12  34.724557   \n",
       "4           5  100724      972          18           19396      12  32.364317   \n",
       "\n",
       "   LONGITUDE  ADM_RATE_ALL   SIZE  ...  MEDIAN_PLUS_LN_DEBT_GRADS  \\\n",
       "0 -86.568502        0.8986   4990  ...                    16106.0   \n",
       "1 -86.799345        0.9211  13186  ...                    16954.0   \n",
       "2 -86.174010        1.0000    351  ...                        NaN   \n",
       "3 -86.640449        0.8087   7458  ...                    16550.0   \n",
       "4 -86.295677        0.9774   3903  ...                    18952.0   \n",
       "\n",
       "   Y2_LN_DEFAULT_RT  Y2_LN_DELINQ_RT  FED_UG_PAIDINFULL  \\\n",
       "0          0.172640         0.074776           0.007926   \n",
       "1          0.060389         0.034483           0.059675   \n",
       "2          0.157191         0.050167                NaN   \n",
       "3          0.055035         0.031390           0.092947   \n",
       "4          0.173804         0.061713           0.007872   \n",
       "\n",
       "   UG_GRAD_2Y_FORBEAR_RT  LPSTAFFORD_CNT  NUM_STU_PLUS_LN_BAL  LPPPLUS_AMT  \\\n",
       "0               0.266409         31374.0                 5201  113949554.0   \n",
       "1               0.156121         56997.0                 3727   87421879.0   \n",
       "2               0.000000          4463.0                   16     309618.0   \n",
       "3               0.100349         19702.0                 1397   29789762.0   \n",
       "4               0.286976         34246.0                 4602   95359062.0   \n",
       "\n",
       "   FED_SCHOOL_CD  CLUSTERLABEL  \n",
       "0         001002            21  \n",
       "1         001052             5  \n",
       "2         016885            10  \n",
       "3         001055             5  \n",
       "4         001005            21  \n",
       "\n",
       "[5 rows x 50 columns]"
      ]
     },
     "execution_count": 17,
     "metadata": {},
     "output_type": "execute_result"
    }
   ],
   "source": [
    "# Store cluster labels for each school into original df\n",
    "\n",
    "# Create new column\n",
    "df['CLUSTERLABEL'] = \"\"\n",
    "\n",
    "# Assign cluster label for each school\n",
    "df['CLUSTERLABEL']=df.apply(lambda x: cluster_predict(df['UNITID']), axis=0)\n",
    "\n",
    "df.head()"
   ]
  },
  {
   "cell_type": "code",
   "execution_count": 18,
   "metadata": {},
   "outputs": [],
   "source": [
    "# Function returns cluister label given a school id\n",
    "def get_label(unit_id):\n",
    "    \n",
    "    rslt_df = df[df['UNITID'] == int(unit_id)]\n",
    "    cluster_label = rslt_df.CLUSTERLABEL.iloc[0]\n",
    "    \n",
    "    return cluster_label\n",
    "\n",
    "# Test function\n",
    "# print('CLUSTER LABEL is: ', get_label(100706))"
   ]
  },
  {
   "cell_type": "code",
   "execution_count": 19,
   "metadata": {},
   "outputs": [],
   "source": [
    "# Function returns school name given a unique school identifier\n",
    "def get_school_name(unit_id):\n",
    "    \n",
    "    rslt_df = df[df['UNITID'] == int(unit_id)]\n",
    "    \n",
    "    school_name = rslt_df.SCHOOL_NAME.iloc[0]\n",
    "    \n",
    "    return school_name\n",
    "\n",
    "# Test function\n",
    "# print('SCHOOL NAME is: ', get_school_name(100706))"
   ]
  },
  {
   "cell_type": "code",
   "execution_count": 20,
   "metadata": {},
   "outputs": [
    {
     "name": "stdout",
     "output_type": "stream",
     "text": [
      "What is the school id of a college which interests you? 214777\n",
      "Since you like Pennsylvania State University-Main Campus , then you might also be interested in these other schools.\n"
     ]
    },
    {
     "data": {
      "text/plain": [
       "1308    Pennsylvania State University-Penn State Erie-...\n",
       "1309    Pennsylvania State University-Penn State New K...\n",
       "1310    Pennsylvania State University-Penn State Shenango\n",
       "1311    Pennsylvania State University-Penn State Wilke...\n",
       "1312    Pennsylvania State University-Penn State Scranton\n",
       "1313    Pennsylvania State University-Penn State Lehig...\n",
       "1314     Pennsylvania State University-Penn State Altoona\n",
       "1315      Pennsylvania State University-Penn State Beaver\n",
       "1316       Pennsylvania State University-Penn State Berks\n",
       "1317    Pennsylvania State University-Penn State Harri...\n",
       "1318    Pennsylvania State University-Penn State Brand...\n",
       "1319    Pennsylvania State University-Penn State Fayet...\n",
       "1320    Pennsylvania State University-Penn State Hazleton\n",
       "1321            Pennsylvania State University-Main Campus\n",
       "1322    Pennsylvania State University-Penn State Great...\n",
       "1323    Pennsylvania State University-Penn State Mont ...\n",
       "1324    Pennsylvania State University-Penn State Abington\n",
       "1325    Pennsylvania State University-Penn State Schuy...\n",
       "1326        Pennsylvania State University-Penn State York\n",
       "1770                        Arizona State University-West\n",
       "1779                 Arizona State University-Polytechnic\n",
       "1856            Arizona State University-Downtown Phoenix\n",
       "1944           Pennsylvania State University-World Campus\n",
       "1984                     Arizona State University-Skysong\n",
       "Name: SCHOOL_NAME, dtype: object"
      ]
     },
     "execution_count": 20,
     "metadata": {},
     "output_type": "execute_result"
    }
   ],
   "source": [
    "# Given a unique school id, return a list of recommended schools in the same cluster\n",
    "# Note: To find recommendations for Penn State, use UNITID = 214777\n",
    "unit_id = input('What is the school id of a college which interests you? ')\n",
    "\n",
    "# Get cluster label for selected school\n",
    "cluster_label = get_label(int(unit_id))\n",
    "\n",
    "# Return school_names for all schools in the cluster\n",
    "rslt_df = df[df['CLUSTERLABEL'] == cluster_label]\n",
    "\n",
    "\n",
    "# Print output of recommendations\n",
    "pd.options.display.max_rows = 3000\n",
    "print('Since you like', get_school_name(unit_id), ', then you might also be interested in these other schools.')\n",
    "rslt_df.SCHOOL_NAME\n"
   ]
  },
  {
   "cell_type": "code",
   "execution_count": null,
   "metadata": {},
   "outputs": [],
   "source": []
  }
 ],
 "metadata": {
  "kernelspec": {
   "display_name": "Python 3",
   "language": "python",
   "name": "python3"
  },
  "language_info": {
   "codemirror_mode": {
    "name": "ipython",
    "version": 3
   },
   "file_extension": ".py",
   "mimetype": "text/x-python",
   "name": "python",
   "nbconvert_exporter": "python",
   "pygments_lexer": "ipython3",
   "version": "3.7.6"
  }
 },
 "nbformat": 4,
 "nbformat_minor": 1
}
